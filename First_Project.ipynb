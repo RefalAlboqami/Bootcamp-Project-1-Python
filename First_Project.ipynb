{
 "cells": [
  {
   "cell_type": "code",
   "execution_count": 1,
   "id": "6e543a95",
   "metadata": {},
   "outputs": [
    {
     "name": "stdout",
     "output_type": "stream",
     "text": [
      "Please choose your destination (Dubai, London, Singapore): london\n",
      "How many travelers?: 2\n",
      "How many days?: 4\n",
      "Please enter your budget: 18000\n"
     ]
    }
   ],
   "source": [
    "###Dubai Lists\n",
    "dubai_hotels=[\"Movenpik Jumeirah Village Triangle\", \"Swissotel Almurooj\", \"Holiday Inn Dubai Al-Maktoum airport\"]\n",
    "dubai_places=[\"Sky Dubai\", \"IMG Theme Park\", \"JBR\", \"Global Village\",\"Dubai Safari Park\"]\n",
    "\n",
    "###London Lists\n",
    "london_hotels=[\"Queen's Gate Hotel\",\"Royal Lancaster\",\"Clayton Hotel London Wall\"]\n",
    "london_places=[\"London Eye\",\"Leicester Square\",\"Hydepark\",\"Covent Garden\",\"Regent Park\"]\n",
    "\n",
    "###Singapore Lists \n",
    "singapore_hotels=[\"Mondrian Singapore Duxton\", \"Voco Orchard\", \"Capri By Fraser China\"]\n",
    "singapore_places=[\"Marina Bay Sands\", \"Universal Studios\", \"Jurong Bird Park\", \"Trick Eye Museum\", \"Botanic Gardens\"]\n",
    "\n",
    "###User Inputs\n",
    "dest=input(\"Please choose your destination (Dubai, London, Singapore): \").lower()\n",
    "travelers=int(input(\"How many travelers?: \"))\n",
    "###While loop to determine the budget\n",
    "while True:\n",
    "    days=int(input(\"How many days?: \"))\n",
    "    budg=float(input(\"Please enter your budget: \"))\n",
    "    if days>3 and budg<=8000 or days>=budg:\n",
    "        print(\"The budget is not enough for the number of days you are planning for\")\n",
    "        repeat = input(\"Do you want to repeat the process? (yes/no): \")\n",
    "        if repeat.lower() != \"yes\":\n",
    "           break\n",
    "    else:\n",
    "        break    "
   ]
  },
  {
   "cell_type": "code",
   "execution_count": 3,
   "id": "8a8fc2a9",
   "metadata": {},
   "outputs": [
    {
     "name": "stdout",
     "output_type": "stream",
     "text": [
      "\n",
      "Pick an option:\n",
      "1) Queen's Gate Hotel\n",
      "2) Royal Lancaster\n",
      "3) Clayton Hotel London Wall\n",
      "Your choice: 2\n",
      "You picked: Royal Lancaster \n",
      "\n"
     ]
    }
   ],
   "source": [
    "###Assigning lists with if condition to run the next function\n",
    "if dest==\"dubai\":\n",
    "    hotels=dubai_hotels\n",
    "elif dest==\"london\":\n",
    "    hotels=london_hotels\n",
    "elif dest==\"singapore\":\n",
    "    hotels=singapore_hotels\n",
    "\n",
    "\n",
    "###Function to help the user to choose the hotel \n",
    "def userChoice(dest, hotels):\n",
    "    hotel = ''\n",
    "    input_message = \"\\nPick an option:\\n\"\n",
    "\n",
    "    for index, item in enumerate(hotels):\n",
    "        input_message += f'{index+1}) {item}\\n'\n",
    "\n",
    "    input_message += 'Your choice: '\n",
    "    ###Check if the user choose a hotel that matches one of the option in the list\n",
    "    while hotel not in map(str, range(1, len(hotels) + 1)):\n",
    "        hotel = input(input_message)\n",
    "\n",
    "    print('You picked: ' + hotels[int(hotel) - 1],'\\n')\n",
    "    ##return (hotel)\n",
    "\n",
    "userChoice(dest, hotels)\n"
   ]
  },
  {
   "cell_type": "code",
   "execution_count": 4,
   "id": "2b472c5b",
   "metadata": {},
   "outputs": [
    {
     "name": "stdout",
     "output_type": "stream",
     "text": [
      "Do you want to include this activity 'London Eye'? (y/n): y\n",
      "Do you want to include this activity 'Leicester Square'? (y/n): n\n",
      "Do you want to include this activity 'Hydepark'? (y/n): y\n",
      "Do you want to include this activity 'Covent Garden'? (y/n): y\n",
      "Do you want to include this activity 'Regent Park'? (y/n): y\n",
      "{'Day 1': ['London Eye'], 'Day 2': ['Hydepark'], 'Day 3': ['Covent Garden'], 'Day 4': ['Regent Park']}\n"
     ]
    }
   ],
   "source": [
    "###Assigning lists with if condition to run the next function\n",
    "if dest== \"dubai\":\n",
    "    act=dubai_places\n",
    "elif dest==\"london\":\n",
    "    act=london_places\n",
    "elif dest==\"singapore\":\n",
    "    act=singapore_places\n",
    "   \n",
    "###Function to help the user to choose the daily activities\n",
    "def createSchedule(act, days):\n",
    "    schedule = {}\n",
    "    num_act = len(act)\n",
    "    act_per_day = num_act // days\n",
    "    extra_acts = num_act % days\n",
    "\n",
    "    day = 1\n",
    "    start_index = 0\n",
    "    for i in range(days):\n",
    "        end_index = start_index + act_per_day\n",
    "        if extra_acts > 0:\n",
    "            end_index += 1\n",
    "            extra_acts -= 1\n",
    "        schedule[f\"Day {day}\"] = act[start_index:end_index]\n",
    "        start_index = end_index\n",
    "        day += 1\n",
    "    return schedule\n",
    "\n",
    "selected_act = []\n",
    "for i in act:\n",
    "    choice = input(f\"Do you want to include this activity '{i}'? (y/n): \")\n",
    "    if choice.lower() == \"y\":\n",
    "        selected_act.append(i)\n",
    "schedule = createSchedule(selected_act,days)\n",
    "print(schedule)"
   ]
  },
  {
   "cell_type": "code",
   "execution_count": 5,
   "id": "66a92af8",
   "metadata": {},
   "outputs": [],
   "source": [
    "###Function calculates the expected budget of the designed plan\n",
    "#based on a percentage calculated for each part of the plan(hotel and schedule)\n",
    "def budget(budg):\n",
    "    hotel_budg= budg*0.3\n",
    "    act_budg=budg*0.2\n",
    "    total_exp_budg= lambda hotel_budg, act_budg : hotel_budg+act_budg\n",
    "    return (total_exp_budg(hotel_budg, act_budg))"
   ]
  },
  {
   "cell_type": "code",
   "execution_count": 11,
   "id": "8f787187",
   "metadata": {},
   "outputs": [
    {
     "name": "stdout",
     "output_type": "stream",
     "text": [
      "\n",
      "This is your plan to\n",
      " london \n",
      "for\n",
      " 4  days\n",
      " Yor daily plan:  {'Day 1': ['London Eye'], 'Day 2': ['Hydepark'], 'Day 3': ['Covent Garden'], 'Day 4': ['Regent Park']} \n",
      "The expected budget for this plan:  9000.0 SR. out of  18000.0 SR.\n"
     ]
    }
   ],
   "source": [
    "###Function to display the plan\n",
    "def plan(dest,days,budg,userChoice,createSchedule,budget):\n",
    "    \n",
    "    print(\"\\nThis is your plan to\\n\",dest,\"\\nfor\\n\",days,\" days\\n\",  \n",
    "          \"Yor daily plan: \",schedule,\\\n",
    "          \"\\nThe expected budget for this plan: \",budget(budg),\"SR. out of \",budg,\"SR.\")\n",
    "    \n",
    "plan(dest,days,budg,userChoice,createSchedule,budget)"
   ]
  },
  {
   "cell_type": "code",
   "execution_count": null,
   "id": "1b813d0f",
   "metadata": {},
   "outputs": [],
   "source": []
  }
 ],
 "metadata": {
  "kernelspec": {
   "display_name": "Python 3 (ipykernel)",
   "language": "python",
   "name": "python3"
  },
  "language_info": {
   "codemirror_mode": {
    "name": "ipython",
    "version": 3
   },
   "file_extension": ".py",
   "mimetype": "text/x-python",
   "name": "python",
   "nbconvert_exporter": "python",
   "pygments_lexer": "ipython3",
   "version": "3.11.5"
  }
 },
 "nbformat": 4,
 "nbformat_minor": 5
}
